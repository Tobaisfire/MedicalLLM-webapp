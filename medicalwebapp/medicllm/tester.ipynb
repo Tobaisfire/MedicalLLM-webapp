{
 "cells": [
  {
   "cell_type": "code",
   "execution_count": 20,
   "metadata": {},
   "outputs": [],
   "source": [
    "from dotenv import load_dotenv\n",
    "import os\n",
    "from langchain_openai import ChatOpenAI\n",
    "# Load the .env file\n",
    "load_dotenv()\n",
    "\n",
    "api_key = os.getenv(\"OPENAI_API_KEY\")"
   ]
  },
  {
   "cell_type": "code",
   "execution_count": 21,
   "metadata": {},
   "outputs": [],
   "source": [
    "llm = ChatOpenAI(model_name='gpt-4.1-nano',api_key=api_key)"
   ]
  },
  {
   "cell_type": "code",
   "execution_count": 22,
   "metadata": {},
   "outputs": [
    {
     "data": {
      "text/plain": [
       "ChatOpenAI(client=<openai.resources.chat.completions.completions.Completions object at 0x0000025411D55350>, async_client=<openai.resources.chat.completions.completions.AsyncCompletions object at 0x0000025412146D50>, root_client=<openai.OpenAI object at 0x0000025411762750>, root_async_client=<openai.AsyncOpenAI object at 0x0000025411D55B10>, model_name='gpt-4.1-nano', model_kwargs={}, openai_api_key=SecretStr('**********'))"
      ]
     },
     "execution_count": 22,
     "metadata": {},
     "output_type": "execute_result"
    }
   ],
   "source": [
    "llm"
   ]
  },
  {
   "cell_type": "code",
   "execution_count": 1,
   "metadata": {},
   "outputs": [
    {
     "name": "stderr",
     "output_type": "stream",
     "text": [
      "c:\\Users\\KEVAL\\anaconda3\\Lib\\site-packages\\sentence_transformers\\cross_encoder\\CrossEncoder.py:11: TqdmExperimentalWarning: Using `tqdm.autonotebook.tqdm` in notebook mode. Use `tqdm.tqdm` instead to force console mode (e.g. in jupyter console)\n",
      "  from tqdm.autonotebook import tqdm, trange\n"
     ]
    }
   ],
   "source": [
    "from langchain_qdrant import QdrantVectorStore\n",
    "from qdrant_client import QdrantClient\n",
    "from langchain_huggingface import HuggingFaceEmbeddings\n",
    "\n",
    "\n",
    "client = QdrantClient(url=\"http://localhost:6333\")\n",
    "embeddings = HuggingFaceEmbeddings(model_name=\"BAAI/bge-large-en\") \n"
   ]
  },
  {
   "cell_type": "code",
   "execution_count": 2,
   "metadata": {},
   "outputs": [],
   "source": [
    "collection_name = \"Handbook_of_Clinical_Psychiatry\"\n",
    "collection_name2 =\"Handbook_of_diagnostic_and_statistical_manual\"\n",
    "\n",
    "def VectosrStore(client,collection_name,embedding):\n",
    "    return client,collection_name,embedding\n",
    "\n",
    "vector_store_diag =VectosrStore(client,collection_name2,embeddings)\n",
    "vector_store_drug = VectosrStore(client,collection_name,embeddings)\n",
    "vector_store_treatment = VectosrStore(client,collection_name,embeddings)"
   ]
  },
  {
   "cell_type": "code",
   "execution_count": 13,
   "metadata": {},
   "outputs": [],
   "source": [
    "def retrieve(query: str, vector_store):\n",
    "    \"\"\"Retrieve information related to a query.\"\"\"\n",
    "    retrieved_docs = vector_store[0].query_points(\n",
    "                collection_name=\"Handbook_of_Clinical_Psychiatry\",\n",
    "                query=embeddings.embed_query(query),\n",
    "                with_payload=True,\n",
    "                limit=3\n",
    "                ).points\n",
    "\n",
    "    serialized = []\n",
    "    for doc in range(len(retrieved_docs)):\n",
    "        serialized.append(f\"Source {doc+1}: \\n{retrieved_docs[doc].payload.get('metadata')}\\n\" f\"Content{doc+1}: \\n{retrieved_docs[doc].payload.get('Content')}\")\n",
    "    return \"\\n\\n\\n\".join(serialized), retrieved_docs"
   ]
  },
  {
   "cell_type": "code",
   "execution_count": null,
   "metadata": {},
   "outputs": [],
   "source": []
  },
  {
   "cell_type": "code",
   "execution_count": 4,
   "metadata": {},
   "outputs": [],
   "source": [
    "class DiagnosisAgent:\n",
    "    def __init__(self, vector_store, llm):\n",
    "        self.vector_store = vector_store\n",
    "        self.llm = llm\n",
    "        self.tools = [retrieve]\n",
    "    def run(self, query):\n",
    "        tool_messages = self.tools[0](query, self.vector_store)\n",
    "        system_message_content = (\n",
    "            \"You are an Diagnosis assistant your tasks is to provide deep diagnosis result. \"\n",
    "            \"Use the following pieces of retrieved context to answer \"\n",
    "            \"the question. If you don't know the answer, say that you \"\n",
    "            \"don't know. Give detailed answer\"\n",
    "            \"\\n\\n\"\n",
    "            f\"Question : {query}\"\n",
    "            \"\\n\\n\"\n",
    "            \"Context : \\n\"\n",
    "            f\"{tool_messages}\"\n",
    "        )\n",
    "        prompt = system_message_content\n",
    "        response = self.llm.invoke(prompt)\n",
    "        return {\"Response\": [response]}"
   ]
  },
  {
   "cell_type": "code",
   "execution_count": 7,
   "metadata": {},
   "outputs": [],
   "source": [
    "info= \"\"\"\n",
    "Patient_ID: 25/7891\n",
    "\n",
    "  Age: 52\n",
    "  Gender: Female\n",
    "\n",
    "  Mental Status Examination :\n",
    "    - Appearance -> Disheveled, Agitated\n",
    "    - Speech:  -> Pressured and Slow\n",
    "    - Mood and Affect -> Depressed and Anxious\n",
    "    - Thought Process -> Disorganized and Tangential\n",
    "    - Insight and Judgment: -> Partial\n",
    "\n",
    "\n",
    "  Presenting Complaints (as described by the patient):\n",
    "  1. Depressed Mood\n",
    "  2. Anxiety/Restlessness\n",
    "\n",
    "  History: Onset and Duration of Symptoms is 20 years\n",
    "\n",
    "  Known psychiatric diagnoses: Alcohol Use disorder, bipolar disorder\n",
    "\n",
    "  Family History: Mother with generalized anxiety disorder\n",
    "\n",
    "  Allergies: \n",
    "\n",
    "  Current medications: Olanzapine 20,clozapibe 50,lithium 800,divaa 750,baclofen 30,clonazepam 0.5,Pan 40, Lorazepam 2mg\n",
    "\n",
    "  Key Observations during Consultation:\n",
    "    - Aggressive and abusive behavior\n",
    "    - Big talks\n",
    "    - Inflated self esteem\n",
    "    - Decreased need for sleep\n",
    "    - Suspicious over family members\n",
    "    - Increased alcohol use\n",
    "\n",
    "\n",
    "\"\"\""
   ]
  },
  {
   "cell_type": "code",
   "execution_count": 9,
   "metadata": {},
   "outputs": [
    {
     "name": "stdout",
     "output_type": "stream",
     "text": [
      "\n",
      "Patient_ID: 25/7891\n",
      "\n",
      "  Age: 52\n",
      "  Gender: Female\n",
      "\n",
      "  Mental Status Examination :\n",
      "    - Appearance -> Disheveled, Agitated\n",
      "    - Speech:  -> Pressured and Slow\n",
      "    - Mood and Affect -> Depressed and Anxious\n",
      "    - Thought Process -> Disorganized and Tangential\n",
      "    - Insight and Judgment: -> Partial\n",
      "\n",
      "\n",
      "  Presenting Complaints (as described by the patient):\n",
      "  1. Depressed Mood\n",
      "  2. Anxiety/Restlessness\n",
      "\n",
      "  History: Onset and Duration of Symptoms is 20 years\n",
      "\n",
      "  Known psychiatric diagnoses: Alcohol Use disorder, bipolar disorder\n",
      "\n",
      "  Family History: Mother with generalized anxiety disorder\n",
      "\n",
      "  Allergies: \n",
      "\n",
      "  Current medications: Olanzapine 20,clozapibe 50,lithium 800,divaa 750,baclofen 30,clonazepam 0.5,Pan 40, Lorazepam 2mg\n",
      "\n",
      "  Key Observations during Consultation:\n",
      "    - Aggressive and abusive behavior\n",
      "    - Big talks\n",
      "    - Inflated self esteem\n",
      "    - Decreased need for sleep\n",
      "    - Suspicious over family members\n",
      "    - Increased alcohol use\n",
      "\n",
      "\n",
      "\n"
     ]
    }
   ],
   "source": [
    "print(info)"
   ]
  },
  {
   "cell_type": "code",
   "execution_count": 14,
   "metadata": {},
   "outputs": [],
   "source": [
    "ret = retrieve(info,vector_store_diag)"
   ]
  },
  {
   "cell_type": "code",
   "execution_count": 37,
   "metadata": {},
   "outputs": [
    {
     "data": {
      "text/plain": [
       "[ScoredPoint(id=476, version=0, score=0.89596194, payload={'Content': 'Current mental status findings Hostile, irritable, menacing, threatening Agitation Victim(s) apparently picked out Weapons available Acute Intoxication Paranoia Delusions or hallucinations, especially command-type or that are used by patients to explain or justify their behavior Impaired empathy Disorders Mania (when characterized by prominent irritability), as in bipolar disorder or schizoaffective disorder, bipolar type Paranoid schizophrenia Anabolic steroid abuse Personality change (with disinhibition, e.g., frontal lobe syndrome) Dementia Delirium Mental retardation Paranoid personality disorder Antisocial personality disorder Borderline personality disorder Alcohol intoxication Stimulant intoxication (cocaine, amphetamines) Intermittent explosive disorder Delusional disorder Personal history History of violent behavior, impulsivity, in similar circumstances Recent act(s) of violence/destruction of property History of being physically abused in childhood Growing up in a family where parents were violent toward each other Childhood history of enuresis, cruelty to animals, and fire setting (the “triad”) Demographic Male > female Young (late teens or early 20s) > older 2. Benzodiazepines and antipsychotics are used most often to tranquilize a patient. Haloperidol (Haldol) given at a dose of 5 mg by mouth or intramuscularly; 2 mg of risperidone (Risperdal) by mouth; or 2 mg of lorazepam (Ativan) by mouth or intramuscularly may be tried initially. An intramuscular of olanzapine is also commonly used. 3. If the patient is already taking an antipsychotic, give more of the same drug. If the patient’s agitation has not decreased in 20 to 30 minutes, repeat the dose. 4. Avoid antipsychotics in patients who are at risk for seizures. www.konkur.in', 'metadata': {'producer': 'A-PDF Watermark 4.7.6', 'creator': 'calibre (4.6.0) [http://calibre-ebook.com]', 'creationdate': '2020-02-03T23:17:09+00:00', 'author': 'Benjamin J. Sadock, M.D. & Samoon Ahmad, M.D. & Virginia A. Sadock, M.D.', 'moddate': '2020-04-13T12:20:44+04:30', 'title': 'Kaplan & Sadocks Pocket Handbook of Clinical Psychiatry', 'book': '{65A30D51-8868-4DBC-8ED2-377198E6C8E0}', 'source': 'K:\\\\study\\\\Frontend\\\\cursor-project\\\\Botter\\\\medic\\\\books\\\\Kaplan-Sadock_Pocket Handbook of Clinical Psychiatry (2019) (1).pdf', 'total_pages': 780, 'page': 486, 'page_label': '487'}}, vector=None, shard_key=None, order_value=None),\n",
       " ScoredPoint(id=29, version=0, score=0.8942919, payload={'Content': 'Topic Questions Comments and Helpful Hints Family history: Psychiatric, medical, and genetic illness in mother, father, siblings; age of parents and occupations; if deceased, date and cause; feelings about each family member, finances Have any members in your family been depressed? Alcoholic? In a mental hospital? In jail? Describe your living conditions. Did you have your own room? Genetic loading in anxiety, depression, suicide, schizophrenia. Get medication history of family (medications effective in family members for similar disorders may be effective in patient). Mental status General appearance: Note appearance, gait, dress, grooming (neat or unkempt), posture, gestures, facial expressions. Does patient appear older or younger than stated age? Introduce yourself and direct patient to take a seat. In the hospital, bring your chair to bedside; do not sit on the bed. Unkempt and disheveled in cognitive disorder; pinpoint pupils in narcotic addiction; withdrawal and stooped posture in depression. Motoric behavior: Level of activity: Psychomotor agitation or psychomotor retardation—tics, tremors, automatisms, mannerisms, grimacing, stereotypes, negativism, apraxia, echopraxia, waxy flexibility; emotional appearance— anxious, tense, panicky, bewildered, sad, unhappy: voice—faint, loud, hoarse; eye contact Have you been more active than usual? Less active? You may ask about obvious mannerisms, e.g., “I notice that your hand still shakes, can you tell me about that?” Stay aware of smells, e.g., alcoholism/ketoacidosis. Fixed posturing, odd behavior in schizophrenia. Hyperactive with stimulant (cocaine) abuse and in mania. Psychomotor retardation in depression; tremors with anxiety or medication side effect (lithium). Eye contact is normally made approximately half the time during the interview. Minimal eye contact in schizophrenia. Scanning of environment in paranoid states. Attitude during interview: How patient relates to examiner— irritable, aggressive, seductive, guarded, defensive, indifferent, apathetic, cooperative, sarcastic You may comment about attitude: You seem irritated about something; is that an accurate observation? Suspiciousness in paranoia; seductive in hysteria; apathetic in conversion disorder (la belle indifference); punning (witzelsucht) in frontal lobe syndromes. www.konkur.in', 'metadata': {'producer': 'A-PDF Watermark 4.7.6', 'creator': 'calibre (4.6.0) [http://calibre-ebook.com]', 'creationdate': '2020-02-03T23:17:09+00:00', 'author': 'Benjamin J. Sadock, M.D. & Samoon Ahmad, M.D. & Virginia A. Sadock, M.D.', 'moddate': '2020-04-13T12:20:44+04:30', 'title': 'Kaplan & Sadocks Pocket Handbook of Clinical Psychiatry', 'book': '{65A30D51-8868-4DBC-8ED2-377198E6C8E0}', 'source': 'K:\\\\study\\\\Frontend\\\\cursor-project\\\\Botter\\\\medic\\\\books\\\\Kaplan-Sadock_Pocket Handbook of Clinical Psychiatry (2019) (1).pdf', 'total_pages': 780, 'page': 39, 'page_label': '40'}}, vector=None, shard_key=None, order_value=None),\n",
       " ScoredPoint(id=248, version=0, score=0.8940072, payload={'Content': 'I. Panic-inducing substances include carbon dioxide, sodium lactate, methyl-chlorophenyl-piperazine (mCPP), carbolines, GABAB receptor antagonists, caffeine, isoproterenol, and yohimbine (Yocon). VIII. Differential Diagnosis A. Depressive disorders. Fifty percent to 70% of depressed patients exhibit anxiety or obsessive brooding; 20% to 30% of primarily anxious patients also experience depression. B. Schizophrenia. Schizophrenic patients may be anxious and have severe obsessions in addition to or preceding the outbreak of hallucinations or delusions. C. Bipolar I disorder. Massive anxiety may occur during a manic episode. D. Atypical psychosis (psychotic disorder not otherwise specified). Massive anxiety is present, in addition to psychotic features. E. Adjustment disorder with anxiety. Patient has a history of a psychosocial stressor within 3 months of onset. F. Medical and neurologic conditions. A secondary anxiety disorder is caused by a specific medical or biologic factor. Undiagnosed hyperthryroidism is a frequent cause. Other causes are listed in Table 12-18. G. Substance-related disorders. Panic or anxiety is often associated with intoxication (especially caffeine, cocaine, amphetamines, hallucinogens) and withdrawal states (see Table 12-13). H. Cognitive disorder. Severe anxiety may interfere with cognition and impairments may occur; however, they remit when the anxiety is diminished, unlike the cognitive defects in dementia. IX. Course and Prognosis A. Separation anxiety disorder 1. Starts as early as 1 year of age. 2. Periods of exacerbations and remissions. 3. Adults may have social and occupational dysfunction. 4. Overall good prognosis with 96% remission. B. Selective mutism 1. Shy, anxious, and risk for depression. 2. Academic difficulties. www.konkur.in', 'metadata': {'producer': 'A-PDF Watermark 4.7.6', 'creator': 'calibre (4.6.0) [http://calibre-ebook.com]', 'creationdate': '2020-02-03T23:17:09+00:00', 'author': 'Benjamin J. Sadock, M.D. & Samoon Ahmad, M.D. & Virginia A. Sadock, M.D.', 'moddate': '2020-04-13T12:20:44+04:30', 'title': 'Kaplan & Sadocks Pocket Handbook of Clinical Psychiatry', 'book': '{65A30D51-8868-4DBC-8ED2-377198E6C8E0}', 'source': 'K:\\\\study\\\\Frontend\\\\cursor-project\\\\Botter\\\\medic\\\\books\\\\Kaplan-Sadock_Pocket Handbook of Clinical Psychiatry (2019) (1).pdf', 'total_pages': 780, 'page': 258, 'page_label': '259'}}, vector=None, shard_key=None, order_value=None)]"
      ]
     },
     "execution_count": 37,
     "metadata": {},
     "output_type": "execute_result"
    }
   ],
   "source": [
    "ret[1]"
   ]
  },
  {
   "cell_type": "code",
   "execution_count": 23,
   "metadata": {},
   "outputs": [],
   "source": [
    "diag_agent = DiagnosisAgent(vector_store_diag, llm)"
   ]
  },
  {
   "cell_type": "code",
   "execution_count": 25,
   "metadata": {},
   "outputs": [],
   "source": [
    "res = diag_agent.run(info)"
   ]
  },
  {
   "cell_type": "code",
   "execution_count": 30,
   "metadata": {},
   "outputs": [
    {
     "name": "stdout",
     "output_type": "stream",
     "text": [
      "Based on the comprehensive clinical information provided for Patient ID 25/7891, the deep diagnostic impression is as follows:\n",
      "\n",
      "**Primary Diagnosis:**\n",
      "- **Bipolar I Disorder, current episode (Mixed) or possibly a Mixed Episode of Bipolar Disorder**\n",
      "\n",
      "**Supporting findings for this diagnosis include:**\n",
      "- **History of Bipolar Disorder:** Known psychiatric diagnosis with longstanding symptoms (20 years duration).\n",
      "- **Current Clinical Presentation:**\n",
      "  - Elevated psychomotor activity, increased talkativeness (\"Big talks\"), inflated self-esteem.\n",
      "  - Decreased need for sleep.\n",
      "  - Pressured but possibly slowed speech.\n",
      "  - Mood appears to fluctuate between depression and agitation.\n",
      "- **Behavioral Observations during consultation:**\n",
      "  - Disorganized, tangential thought process.\n",
      "  - Distrustful, suspicious over family members.\n",
      "  - Aggressive, abusive behavior, and violent tendencies.\n",
      "  - Inflated self-esteem suggests grandiosity.\n",
      "  - Grandiosity aligns with manic/mixed features.\n",
      "- **Additional Features:**\n",
      "  - Agitation and irritability.\n",
      "  - Increased alcohol use, which could be an attempt at self-medication or part of mood instability.\n",
      "  - Partial insight and judgment impairment, typical in manic/mixed episodes.\n",
      "- **Medical and family background:**\n",
      "  - Existing bipolar diagnosis.\n",
      "  - Family history of anxiety disorder (mother), which can be a comorbid factor.\n",
      "  - Current medications suggest maintenance for bipolar disorder, but the presence of agitation and violent behavior indicates possible episode recurrence or medication non-compliance/effectiveness.\n",
      "- **Mental Status Examination (MSE):**\n",
      "  - Appearance: Disheveled and agitated.\n",
      "  - Mood: Depressed and anxious but also exhibiting features of agitation and inflated self-esteem, consistent with a mixed mood state.\n",
      "  - Thought process: Disorganized and tangential, supporting a manic/mixed episode.\n",
      "  - Insight and judgment: Partial, indicating impaired awareness of illness severity.\n",
      "\n",
      "**Additional considerations:**\n",
      "- The aggressive and paranoid behaviors, suspiciousness, and abusive tendencies could indicate a comorbid psychotic component, which aligns with bipolar disorder with psychotic features during episodes.\n",
      "- The recent increase in alcohol consumption and agitation suggests a possible substance-induced exacerbation of symptoms.\n",
      "- The presentation resembles a **mixed episode** of bipolar disorder, where features of mania (elevated self-esteem, decreased sleep, agitation) are concurrent with depressive symptoms (depressed mood, anxious affect).\n",
      "\n",
      "**Differential considerations:**\n",
      "- Given her history, other diagnoses like schizoaffective disorder or borderline personality disorder should be considered, especially considering her disorganized thought process, impulsivity, aggression, and transient insight. However, the core features align more closely with bipolar disorder with mixed features.\n",
      "\n",
      "**Important note:**\n",
      "- Caution should be exercised given her medication profile and alcohol use, which might influence symptom presentation and severity.\n",
      "- Immediate safety measures and stabilization should be prioritized, potentially with revision of her medication regimen and addressing substance use.\n",
      "\n",
      "**Summary:**\n",
      "The patient is experiencing a **mixed episode of Bipolar I disorder**, characterized by simultaneous manic and depressive symptoms, with prominent agitation, disorganized thought process, agitation, suspiciousness, and behavioral disturbances. She requires close psychiatric management, possibly inpatient stabilization, and an assessment to review and optimize her medication regimen, alongside interventions for alcohol use and aggression management.\n"
     ]
    }
   ],
   "source": [
    "print(res['Response'][0].content)"
   ]
  },
  {
   "cell_type": "code",
   "execution_count": 41,
   "metadata": {},
   "outputs": [],
   "source": [
    "context = \"\"\n",
    "for i in ret[1]:\n",
    "    context  = context + i.payload.get(\"Content\") + \"\\n\""
   ]
  },
  {
   "cell_type": "code",
   "execution_count": 43,
   "metadata": {},
   "outputs": [
    {
     "name": "stdout",
     "output_type": "stream",
     "text": [
      "Current mental status findings Hostile, irritable, menacing, threatening Agitation Victim(s) apparently picked out Weapons available Acute Intoxication Paranoia Delusions or hallucinations, especially command-type or that are used by patients to explain or justify their behavior Impaired empathy Disorders Mania (when characterized by prominent irritability), as in bipolar disorder or schizoaffective disorder, bipolar type Paranoid schizophrenia Anabolic steroid abuse Personality change (with disinhibition, e.g., frontal lobe syndrome) Dementia Delirium Mental retardation Paranoid personality disorder Antisocial personality disorder Borderline personality disorder Alcohol intoxication Stimulant intoxication (cocaine, amphetamines) Intermittent explosive disorder Delusional disorder Personal history History of violent behavior, impulsivity, in similar circumstances Recent act(s) of violence/destruction of property History of being physically abused in childhood Growing up in a family where parents were violent toward each other Childhood history of enuresis, cruelty to animals, and fire setting (the “triad”) Demographic Male > female Young (late teens or early 20s) > older 2. Benzodiazepines and antipsychotics are used most often to tranquilize a patient. Haloperidol (Haldol) given at a dose of 5 mg by mouth or intramuscularly; 2 mg of risperidone (Risperdal) by mouth; or 2 mg of lorazepam (Ativan) by mouth or intramuscularly may be tried initially. An intramuscular of olanzapine is also commonly used. 3. If the patient is already taking an antipsychotic, give more of the same drug. If the patient’s agitation has not decreased in 20 to 30 minutes, repeat the dose. 4. Avoid antipsychotics in patients who are at risk for seizures. www.konkur.in\n",
      "Topic Questions Comments and Helpful Hints Family history: Psychiatric, medical, and genetic illness in mother, father, siblings; age of parents and occupations; if deceased, date and cause; feelings about each family member, finances Have any members in your family been depressed? Alcoholic? In a mental hospital? In jail? Describe your living conditions. Did you have your own room? Genetic loading in anxiety, depression, suicide, schizophrenia. Get medication history of family (medications effective in family members for similar disorders may be effective in patient). Mental status General appearance: Note appearance, gait, dress, grooming (neat or unkempt), posture, gestures, facial expressions. Does patient appear older or younger than stated age? Introduce yourself and direct patient to take a seat. In the hospital, bring your chair to bedside; do not sit on the bed. Unkempt and disheveled in cognitive disorder; pinpoint pupils in narcotic addiction; withdrawal and stooped posture in depression. Motoric behavior: Level of activity: Psychomotor agitation or psychomotor retardation—tics, tremors, automatisms, mannerisms, grimacing, stereotypes, negativism, apraxia, echopraxia, waxy flexibility; emotional appearance— anxious, tense, panicky, bewildered, sad, unhappy: voice—faint, loud, hoarse; eye contact Have you been more active than usual? Less active? You may ask about obvious mannerisms, e.g., “I notice that your hand still shakes, can you tell me about that?” Stay aware of smells, e.g., alcoholism/ketoacidosis. Fixed posturing, odd behavior in schizophrenia. Hyperactive with stimulant (cocaine) abuse and in mania. Psychomotor retardation in depression; tremors with anxiety or medication side effect (lithium). Eye contact is normally made approximately half the time during the interview. Minimal eye contact in schizophrenia. Scanning of environment in paranoid states. Attitude during interview: How patient relates to examiner— irritable, aggressive, seductive, guarded, defensive, indifferent, apathetic, cooperative, sarcastic You may comment about attitude: You seem irritated about something; is that an accurate observation? Suspiciousness in paranoia; seductive in hysteria; apathetic in conversion disorder (la belle indifference); punning (witzelsucht) in frontal lobe syndromes. www.konkur.in\n",
      "I. Panic-inducing substances include carbon dioxide, sodium lactate, methyl-chlorophenyl-piperazine (mCPP), carbolines, GABAB receptor antagonists, caffeine, isoproterenol, and yohimbine (Yocon). VIII. Differential Diagnosis A. Depressive disorders. Fifty percent to 70% of depressed patients exhibit anxiety or obsessive brooding; 20% to 30% of primarily anxious patients also experience depression. B. Schizophrenia. Schizophrenic patients may be anxious and have severe obsessions in addition to or preceding the outbreak of hallucinations or delusions. C. Bipolar I disorder. Massive anxiety may occur during a manic episode. D. Atypical psychosis (psychotic disorder not otherwise specified). Massive anxiety is present, in addition to psychotic features. E. Adjustment disorder with anxiety. Patient has a history of a psychosocial stressor within 3 months of onset. F. Medical and neurologic conditions. A secondary anxiety disorder is caused by a specific medical or biologic factor. Undiagnosed hyperthryroidism is a frequent cause. Other causes are listed in Table 12-18. G. Substance-related disorders. Panic or anxiety is often associated with intoxication (especially caffeine, cocaine, amphetamines, hallucinogens) and withdrawal states (see Table 12-13). H. Cognitive disorder. Severe anxiety may interfere with cognition and impairments may occur; however, they remit when the anxiety is diminished, unlike the cognitive defects in dementia. IX. Course and Prognosis A. Separation anxiety disorder 1. Starts as early as 1 year of age. 2. Periods of exacerbations and remissions. 3. Adults may have social and occupational dysfunction. 4. Overall good prognosis with 96% remission. B. Selective mutism 1. Shy, anxious, and risk for depression. 2. Academic difficulties. www.konkur.in\n",
      "\n"
     ]
    }
   ],
   "source": [
    "print(context)"
   ]
  },
  {
   "cell_type": "code",
   "execution_count": null,
   "metadata": {},
   "outputs": [],
   "source": []
  }
 ],
 "metadata": {
  "kernelspec": {
   "display_name": "base",
   "language": "python",
   "name": "python3"
  },
  "language_info": {
   "codemirror_mode": {
    "name": "ipython",
    "version": 3
   },
   "file_extension": ".py",
   "mimetype": "text/x-python",
   "name": "python",
   "nbconvert_exporter": "python",
   "pygments_lexer": "ipython3",
   "version": "3.11.5"
  }
 },
 "nbformat": 4,
 "nbformat_minor": 2
}
